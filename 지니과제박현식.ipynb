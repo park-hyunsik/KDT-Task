{
  "nbformat": 4,
  "nbformat_minor": 0,
  "metadata": {
    "colab": {
      "provenance": []
    },
    "kernelspec": {
      "name": "python3",
      "display_name": "Python 3"
    },
    "language_info": {
      "name": "python"
    }
  },
  "cells": [
    {
      "cell_type": "code",
      "execution_count": 54,
      "metadata": {
        "id": "u92IZc9mqc61"
      },
      "outputs": [],
      "source": [
        "import requests\n",
        "from bs4 import BeautifulSoup as bs\n",
        "import pandas as pd"
      ]
    },
    {
      "cell_type": "code",
      "source": [
        "#과제 지니차트 200위 까지크롤링 \n",
        "# 4번 노가다 하지말고 for문으로 크롤링하셈\n",
        "# 수집한 데이터를 데이터프레임으로 저장\n",
        "# 엑셀로 출력\n",
        "# 과제는 github에 내보내기"
      ],
      "metadata": {
        "id": "nbte2lyAqrU3"
      },
      "execution_count": 55,
      "outputs": []
    },
    {
      "cell_type": "code",
      "source": [
        "header = {'User-Agent': 'Mozilla/5.0 (Windows NT 10.0; Win64; x64)'}\n",
        "base_url = 'https://www.genie.co.kr/chart/top200?ditc=D&ymd=20230601&hh=16&rtm=Y&pg='\n",
        "\n",
        "data = []\n",
        "for page in range(1, 5):\n",
        "    request = requests.get(f'{base_url}{page}', headers=header)\n",
        "    soup = bs(request.text, 'html.parser')\n",
        "\n",
        "    titles = soup.select('a.title.ellipsis')\n",
        "    tbody = soup.find('tbody')\n",
        "    artists = tbody.findAll('a', {'class': 'artist ellipsis'})\n",
        "\n",
        "    for i in range(len(titles)):\n",
        "        title = titles[i].text.strip()\n",
        "        artist = artists[i].text.strip()\n",
        "        rank = (page - 1) * 50 + i + 1\n",
        "        data.append({'Rank': rank, 'Artist': artist, 'Title': title})\n",
        "\n",
        "df = pd.DataFrame(data)\n",
        "df.to_excel('박현식지니과제.xlsx')\n"
      ],
      "metadata": {
        "id": "sJpFSAwDtCU3"
      },
      "execution_count": 78,
      "outputs": []
    }
  ]
}